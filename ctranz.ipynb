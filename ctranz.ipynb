{
 "cells": [
  {
   "cell_type": "code",
   "execution_count": 1,
   "metadata": {},
   "outputs": [
    {
     "name": "stderr",
     "output_type": "stream",
     "text": [
      "/home/sagar/anaconda3/lib/python3.6/site-packages/h5py/__init__.py:36: FutureWarning: Conversion of the second argument of issubdtype from `float` to `np.floating` is deprecated. In future, it will be treated as `np.float64 == np.dtype(float).type`.\n",
      "  from ._conv import register_converters as _register_converters\n",
      "Using TensorFlow backend.\n",
      "/home/sagar/anaconda3/lib/python3.6/site-packages/sklearn/cross_validation.py:41: DeprecationWarning: This module was deprecated in version 0.18 in favor of the model_selection module into which all the refactored classes and functions are moved. Also note that the interface of the new CV iterators are different from that of this module. This module will be removed in 0.20.\n",
      "  \"This module will be removed in 0.20.\", DeprecationWarning)\n"
     ]
    }
   ],
   "source": [
    "import glob\n",
    "import os\n",
    "from os import walk\n",
    "import tensorflow as tf\n",
    "import cv2\n",
    "import keras\n",
    "from keras import preprocessing\n",
    "import numpy as np\n",
    "import matplotlib.pyplot as plt\n",
    "from keras.preprocessing.image import load_img, ImageDataGenerator\n",
    "from keras.preprocessing.image import img_to_array\n",
    "from keras.applications.resnet50 import ResNet50, preprocess_input\n",
    "from sklearn.cross_validation import train_test_split\n",
    "from keras.applications.inception_v3 import InceptionV3\n",
    "from keras.applications.inception_v3 import preprocess_input\n",
    "%matplotlib inline"
   ]
  },
  {
   "cell_type": "code",
   "execution_count": 2,
   "metadata": {},
   "outputs": [],
   "source": [
    "train_dataset_dir = \"/media/sagar/D/ctranz/newDataset/train\"\n",
    "test_dataset_dir = \"/media/sagar/D/ctranz/newDataset/validate\"\n",
    "img_size = 224\n",
    "img_channels = 3\n",
    "num_classes = 4\n",
    "data_dict = {'data':None, 'labels':[], 'image_path':[]}\n",
    "#Load the ResNet50 model\n",
    "#resnet_model = resnet50.ResNet50(weights='imagenet')"
   ]
  },
  {
   "cell_type": "code",
   "execution_count": 3,
   "metadata": {},
   "outputs": [
    {
     "name": "stdout",
     "output_type": "stream",
     "text": [
      "Found 277 images belonging to 4 classes.\n",
      "Found 67 images belonging to 4 classes.\n"
     ]
    }
   ],
   "source": [
    "batch_size = 60\n",
    "train_datagen = ImageDataGenerator(rescale=1./255,\n",
    "                                   rotation_range=40,\n",
    "                                width_shift_range=0.2,\n",
    "                                height_shift_range=0.2,\n",
    "                                shear_range=0.2,\n",
    "                                zoom_range=0.2,\n",
    "                                horizontal_flip=True,\n",
    "                                fill_mode='nearest')\n",
    "\n",
    "#img = load_img('/media/sagar/D/ctranz/newDataset/test/SUV00.jpg')  # this is a PIL image\n",
    "#x = img_to_array(img)  # this is a Numpy array with shape (3, 150, 150)\n",
    "#x = x.reshape((1,) + x.shape)  # this is a Numpy array with shape (1, 3, 150, 150)\n",
    "#print(x.shape)\n",
    "# the .flow() command below generates batches of randomly transformed images\n",
    "# and saves the results to the `preview/` directory\n",
    "        \n",
    "        \n",
    "        \n",
    "test_datagen = ImageDataGenerator(rescale=1./255)\n",
    "\n",
    "train_generator = train_datagen.flow_from_directory(\n",
    "                                    train_dataset_dir,\n",
    "                                    target_size=(img_size,img_size),\n",
    "                                    batch_size=batch_size,\n",
    "                                    class_mode='categorical')\n",
    "\n",
    "validation_generator = train_datagen.flow_from_directory(\n",
    "                                    test_dataset_dir,\n",
    "                                    target_size=(img_size,img_size),\n",
    "                                    batch_size=batch_size,\n",
    "                                    class_mode='categorical')"
   ]
  },
  {
   "cell_type": "code",
   "execution_count": 4,
   "metadata": {},
   "outputs": [],
   "source": [
    "input_shape = (224,224,3)\n",
    "base_model = InceptionV3(weights='imagenet', include_top=False,input_shape=input_shape)\n",
    "#base_model.summary()\n",
    "from IPython.display import SVG\n",
    "from keras.utils.vis_utils import model_to_dot\n",
    "\n",
    "#SVG(model_to_dot(base_model).create(prog='dot', format='svg'))"
   ]
  },
  {
   "cell_type": "code",
   "execution_count": 5,
   "metadata": {},
   "outputs": [],
   "source": [
    "# at this point, the top layers are well trained and we can start fine-tuning\n",
    "# convolutional layers from resnet50. We will freeze the bottom N layers\n",
    "# and train the remaining top layers.\n",
    "\n",
    "# let's visualize layer names and layer indices to see how many layers\n",
    "# we should freeze:\n",
    "#for i, layer in enumerate(base_model.layers):\n",
    " #  print(i, layer.name)"
   ]
  },
  {
   "cell_type": "code",
   "execution_count": 6,
   "metadata": {},
   "outputs": [],
   "source": [
    "# at this point, the top layers are well trained and we can start fine-tuning\n",
    "# convolutional layers from resnet50. We will freeze the bottom N layers\n",
    "# and train the remaining top layers.\n",
    "\n",
    "# let's visualize layer names and layer indices to see how many layers\n",
    "# we should freeze:\n",
    "\n",
    "nclass =4\n",
    "from keras.layers import Dense, GlobalAveragePooling2D, Flatten, Dropout\n",
    "from keras.models import Sequential\n",
    "from keras.models import Model\n",
    "#x = base_model.output\n",
    "#x = Flatten()(x)\n",
    "#predictions = Dense(3, activation='softmax', name='predictions')(x)\n",
    "#x = GlobalAveragePooling2D()(x)\n",
    "#x = Dense(1024, activation='relu')(x)\n",
    "#predictions = Dense(5,activation='softmax')(x)\n",
    "#x = GlobalAveragePooling2D()(x)\n",
    "# let's add a fully-connected layer\n",
    "#x = Dense(1024, activation='relu')(x)\n",
    "# and a logistic layer -- let's say we have 200 classes\n",
    "#predictions = Dense(4, activation='softmax')(x)\n",
    "add_model = Sequential()\n",
    "base_model.trainable = False\n",
    "add_model.add(base_model)\n",
    "add_model.add(GlobalAveragePooling2D())\n",
    "#add_model.add(Flatten())\n",
    "#add_model.add(Dropout(0.8))\n",
    "#add_model.add(Dense(4000, activation='relu'))\n",
    "#add_model.add(Dropout(0.5))\n",
    "add_model.add(Dense(1024, activation='relu'))\n",
    "add_model.add(Dense(512, activation='relu'))\n",
    "add_model.add(Dropout(0.5))\n",
    "add_model.add(Dense(nclass,activation='softmax'))\n",
    "model = add_model\n",
    "\n",
    "#model = Model(inputs=base_model.input,outputs=predictions)\n",
    "\n",
    "#for i, layer in enumerate(model.layers):\n",
    "#   print(i, layer.name)"
   ]
  },
  {
   "cell_type": "code",
   "execution_count": 7,
   "metadata": {
    "scrolled": false
   },
   "outputs": [],
   "source": [
    "# first: train only the top layers (which were randomly initialized)\n",
    "# i.e. freeze all convolutional InceptionV3 layers\n",
    "#for layer in base_model.layers:\n",
    "#    layer.trainable = False\n",
    "from keras.optimizers import Adam\n",
    "#Adam = optimizers.Adam(lr=0.001)\n",
    "# compile the model (should be done *after* setting layers to non-trainable)\n",
    "model.compile(optimizer=Adam(lr=0.001), loss='categorical_crossentropy', metrics=['accuracy'])\n",
    "#model.summary()\n",
    "#print(model.summary())"
   ]
  },
  {
   "cell_type": "code",
   "execution_count": 10,
   "metadata": {},
   "outputs": [
    {
     "name": "stdout",
     "output_type": "stream",
     "text": [
      "Epoch 21/25\n",
      " - 33s - loss: 0.7873 - acc: 0.7040 - val_loss: 1.2264 - val_acc: 0.4478\n",
      "Epoch 22/25\n",
      " - 35s - loss: 0.7348 - acc: 0.6633 - val_loss: 1.1664 - val_acc: 0.6418\n",
      "Epoch 23/25\n",
      " - 32s - loss: 0.7548 - acc: 0.6988 - val_loss: 1.4431 - val_acc: 0.4328\n",
      "Epoch 24/25\n",
      " - 34s - loss: 0.8825 - acc: 0.6346 - val_loss: 0.8383 - val_acc: 0.6567\n",
      "Epoch 25/25\n",
      " - 33s - loss: 0.7914 - acc: 0.6785 - val_loss: 0.7930 - val_acc: 0.7015\n"
     ]
    }
   ],
   "source": [
    "history = model.fit_generator(train_generator, steps_per_epoch=None, epochs=25, verbose=2, callbacks=None, validation_data=validation_generator, validation_steps=None, class_weight=None, max_queue_size=10, workers=1, use_multiprocessing=True, shuffle=True, initial_epoch=20)"
   ]
  },
  {
   "cell_type": "code",
   "execution_count": null,
   "metadata": {},
   "outputs": [],
   "source": [
    "# at this point, the top layers are well trained and we can start fine-tuning\n",
    "# convolutional layers from resnet50. We will freeze the bottom N layers\n",
    "# and train the remaining top layers.\n",
    "\n",
    "# let's visualize layer names and layer indices to see how many layers\n",
    "# we should freeze:\n",
    "#for i, layer in enumerate(model.layers):\n",
    "#   print(i, layer.name)\n",
    "#model.fit_generator(train_generator, steps_per_epoch=None, epochs=50, verbose=2, callbacks=None, validation_data=test_generator, validation_steps=None, class_weight=None, max_queue_size=10, workers=4, use_multiprocessing=True, shuffle=True, initial_epoch=30)"
   ]
  },
  {
   "cell_type": "code",
   "execution_count": 12,
   "metadata": {
    "scrolled": true
   },
   "outputs": [
    {
     "name": "stdout",
     "output_type": "stream",
     "text": [
      "Epoch 1/20\n",
      " - 37s - loss: 0.7017 - acc: 0.7123 - val_loss: 0.8644 - val_acc: 0.6418\n",
      "Epoch 2/20\n",
      " - 36s - loss: 0.7043 - acc: 0.7292 - val_loss: 0.7259 - val_acc: 0.6866\n",
      "Epoch 3/20\n",
      " - 34s - loss: 0.6831 - acc: 0.7327 - val_loss: 0.7834 - val_acc: 0.6567\n",
      "Epoch 4/20\n",
      " - 35s - loss: 0.6562 - acc: 0.7496 - val_loss: 0.8030 - val_acc: 0.6716\n",
      "Epoch 5/20\n",
      " - 35s - loss: 0.7483 - acc: 0.6921 - val_loss: 0.9010 - val_acc: 0.6269\n",
      "Epoch 6/20\n",
      " - 33s - loss: 0.6916 - acc: 0.7173 - val_loss: 0.7837 - val_acc: 0.7015\n",
      "Epoch 7/20\n",
      " - 34s - loss: 0.7482 - acc: 0.6905 - val_loss: 0.7593 - val_acc: 0.6716\n",
      "Epoch 8/20\n",
      " - 34s - loss: 0.7131 - acc: 0.7411 - val_loss: 0.8461 - val_acc: 0.6269\n",
      "Epoch 9/20\n",
      " - 35s - loss: 0.7307 - acc: 0.7173 - val_loss: 0.7619 - val_acc: 0.6418\n",
      "Epoch 10/20\n",
      " - 36s - loss: 0.6970 - acc: 0.7073 - val_loss: 0.8261 - val_acc: 0.6866\n",
      "Epoch 11/20\n",
      " - 35s - loss: 0.6847 - acc: 0.7360 - val_loss: 0.7720 - val_acc: 0.6269\n",
      "Epoch 12/20\n",
      " - 34s - loss: 0.7441 - acc: 0.6834 - val_loss: 0.7578 - val_acc: 0.6866\n",
      "Epoch 13/20\n",
      " - 34s - loss: 0.6973 - acc: 0.7276 - val_loss: 0.9276 - val_acc: 0.6866\n",
      "Epoch 14/20\n",
      " - 35s - loss: 0.7119 - acc: 0.7309 - val_loss: 1.0676 - val_acc: 0.5970\n",
      "Epoch 15/20\n",
      " - 32s - loss: 0.6689 - acc: 0.7242 - val_loss: 0.9832 - val_acc: 0.6418\n",
      "Epoch 16/20\n",
      " - 33s - loss: 0.6868 - acc: 0.7054 - val_loss: 0.9384 - val_acc: 0.6418\n",
      "Epoch 17/20\n",
      " - 35s - loss: 0.7305 - acc: 0.7107 - val_loss: 0.8740 - val_acc: 0.5821\n",
      "Epoch 18/20\n",
      " - 33s - loss: 0.7405 - acc: 0.7277 - val_loss: 0.7842 - val_acc: 0.6716\n",
      "Epoch 19/20\n",
      " - 33s - loss: 0.7136 - acc: 0.7004 - val_loss: 1.0550 - val_acc: 0.5970\n",
      "Epoch 20/20\n",
      " - 35s - loss: 0.7292 - acc: 0.7344 - val_loss: 0.8035 - val_acc: 0.6567\n"
     ]
    }
   ],
   "source": [
    "for layer in model.layers[:150]:\n",
    "    layer.trainable = False\n",
    "for layer in model.layers[150:]:\n",
    "    layer.trainable = True\n",
    "from keras.optimizers import Adam\n",
    "\n",
    "model.compile(optimizer=Adam(lr=0.001),loss='categorical_crossentropy',metrics=['accuracy'])\n",
    "history1 = model.fit_generator(train_generator, steps_per_epoch=None, epochs=20, verbose=2, callbacks=None, validation_data=validation_generator, validation_steps=None, class_weight=None, max_queue_size=10, workers=4, use_multiprocessing=True, shuffle=True, initial_epoch=0)\n"
   ]
  },
  {
   "cell_type": "code",
   "execution_count": 17,
   "metadata": {},
   "outputs": [
    {
     "name": "stdout",
     "output_type": "stream",
     "text": [
      "Epoch 21/30\n",
      " - 33s - loss: 0.7001 - acc: 0.7158 - val_loss: 0.8890 - val_acc: 0.6119\n",
      "Epoch 22/30\n",
      " - 32s - loss: 0.7399 - acc: 0.7192 - val_loss: 0.7845 - val_acc: 0.7015\n",
      "Epoch 23/30\n",
      " - 35s - loss: 0.7043 - acc: 0.7090 - val_loss: 0.8888 - val_acc: 0.6716\n",
      "Epoch 24/30\n",
      " - 34s - loss: 0.7432 - acc: 0.7208 - val_loss: 0.9423 - val_acc: 0.5522\n",
      "Epoch 25/30\n",
      " - 34s - loss: 0.6548 - acc: 0.7565 - val_loss: 0.9841 - val_acc: 0.6269\n",
      "Epoch 26/30\n",
      " - 34s - loss: 0.6655 - acc: 0.7039 - val_loss: 0.8617 - val_acc: 0.6418\n",
      "Epoch 27/30\n",
      " - 35s - loss: 0.7307 - acc: 0.7124 - val_loss: 0.9316 - val_acc: 0.6418\n",
      "Epoch 28/30\n",
      " - 34s - loss: 0.7293 - acc: 0.7157 - val_loss: 0.9598 - val_acc: 0.5224\n",
      "Epoch 29/30\n",
      " - 34s - loss: 0.7035 - acc: 0.7176 - val_loss: 0.9438 - val_acc: 0.6418\n",
      "Epoch 30/30\n",
      " - 35s - loss: 0.6844 - acc: 0.7361 - val_loss: 0.7271 - val_acc: 0.7761\n"
     ]
    }
   ],
   "source": [
    "history = model.fit_generator(train_generator, steps_per_epoch=None, epochs=30, verbose=2, callbacks=None, validation_data=validation_generator, validation_steps=None, class_weight=None, max_queue_size=10, workers=4, use_multiprocessing=True, shuffle=True, initial_epoch=20)"
   ]
  },
  {
   "cell_type": "code",
   "execution_count": 19,
   "metadata": {},
   "outputs": [
    {
     "name": "stdout",
     "output_type": "stream",
     "text": [
      "dict_keys(['val_loss', 'val_acc', 'loss', 'acc'])\n",
      "{'SUV': 0, 'car': 1, 'pickup': 2, 'truck': 3}\n"
     ]
    },
    {
     "data": {
      "image/png": "[encoded data removed]",
      "text/plain": [
       "<Figure size 432x288 with 1 Axes>"
      ]
     },
     "metadata": {},
     "output_type": "display_data"
    }
   ],
   "source": [
    "print(history.history.keys())\n",
    "label_map = (train_generator.class_indices)\n",
    "print(label_map)\n",
    "\n",
    "plt.plot(history.history['loss'])\n",
    "plt.plot(history.history['val_loss'])\n",
    "plt.title('model loss')\n",
    "plt.ylabel('loss')\n",
    "plt.xlabel('epoch')\n",
    "plt.legend(['train', 'test'], loc='upper left')\n",
    "plt.show()\n",
    "\n",
    "\n",
    "training_loss = history.history['loss']\n",
    "test_loss = history.history['val_loss']\n",
    "\n",
    "# Create count of the number of epochs\n",
    "epoch_count = range(1, len(training_loss) + 1)"
   ]
  },
  {
   "cell_type": "code",
   "execution_count": 33,
   "metadata": {},
   "outputs": [
    {
     "name": "stdout",
     "output_type": "stream",
     "text": [
      "(224, 224, 3)\n",
      "Input image shape: (1, 224, 224, 3)\n",
      "class: [2]\n",
      "Predicted: [[0.03580234 0.00372487 0.95686984 0.00360297]]\n"
     ]
    }
   ],
   "source": [
    "img_path = \"/media/sagar/D/ctranz/newDataset/test/pickup5.jpeg\"\n",
    "img = load_img(img_path, target_size=(224, 224))\n",
    "x = img_to_array(img)\n",
    "print(x.shape)\n",
    "x = np.expand_dims(x, axis=0)\n",
    "x = preprocess_input(x)\n",
    "print('Input image shape:', x.shape)\n",
    "\n",
    "preds = model.predict(x)\n",
    "y_classes = preds.argmax(axis=-1)\n",
    "print('class:', y_classes)\n",
    "print('Predicted:', preds)"
   ]
  },
  {
   "cell_type": "code",
   "execution_count": null,
   "metadata": {},
   "outputs": [],
   "source": [
    "model.save('my_model.h5')"
   ]
  },
  {
   "cell_type": "code",
   "execution_count": null,
   "metadata": {},
   "outputs": [],
   "source": [
    "from keras.models import load_model\n",
    "model = load_model('my_model.h5')"
   ]
  },
  {
   "cell_type": "code",
   "execution_count": null,
   "metadata": {},
   "outputs": [],
   "source": []
  }
 ],
 "metadata": {
  "kernelspec": {
   "display_name": "Python 3",
   "language": "python",
   "name": "python3"
  },
  "language_info": {
   "codemirror_mode": {
    "name": "ipython",
    "version": 3
   },
   "file_extension": ".py",
   "mimetype": "text/x-python",
   "name": "python",
   "nbconvert_exporter": "python",
   "pygments_lexer": "ipython3",
   "version": "3.6.5"
  }
 },
 "nbformat": 4,
 "nbformat_minor": 2
}
