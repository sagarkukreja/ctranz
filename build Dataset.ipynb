{
 "cells": [
  {
   "cell_type": "code",
   "execution_count": null,
   "metadata": {},
   "outputs": [],
   "source": [
    "def build_dataset(dataset_dir):\n",
    "    X = []\n",
    "    y = []\n",
    "    for directory in os.listdir(dataset_dir):\n",
    "        sub_class_path = os.path.join(dataset_dir+\"/\",directory)\n",
    "        #print(sub_class_path)\n",
    "        for file in os.listdir(sub_class_path):\n",
    "            img = load_img(os.path.join(sub_class_path+\"/\",file),target_size=(img_size, img_size))\n",
    "            x = img_to_array(img)\n",
    "            #x = np.expand_dims(x, axis=0)\n",
    "            x = preprocess_input(x)\n",
    "            #print(x.shape)\n",
    "            #x = np.transpose(x,(2,0,1))\n",
    "            #print(x.shape)\n",
    "            X.append(x)\n",
    "            y.append(directory)\n",
    "    X = np.array(X)\n",
    "    y = np.expand_dims(np.array(y), axis=1)\n",
    "    #print(X.shape)\n",
    "    #print(y.shape)\n",
    "    return X,y\n",
    "def main():\n",
    "    X_train, y_train = build_dataset(train_dataset_dir)\n",
    "    X_test, y_test = build_dataset(test_dataset_dir)\n",
    "    print(X_train.shape)\n",
    "    #print(X_train)\n",
    "    print(y_train.shape)\n",
    "    print(X_test.shape)\n",
    "    print(y_test.shape)"
   ]
  }
 ],
 "metadata": {
  "kernelspec": {
   "display_name": "Python 3",
   "language": "python",
   "name": "python3"
  },
  "language_info": {
   "codemirror_mode": {
    "name": "ipython",
    "version": 3
   },
   "file_extension": ".py",
   "mimetype": "text/x-python",
   "name": "python",
   "nbconvert_exporter": "python",
   "pygments_lexer": "ipython3",
   "version": "3.6.5"
  }
 },
 "nbformat": 4,
 "nbformat_minor": 2
}
